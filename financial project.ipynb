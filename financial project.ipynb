{
 "cells": [
  {
   "cell_type": "code",
   "execution_count": 1,
   "id": "4e9c3063",
   "metadata": {},
   "outputs": [
    {
     "name": "stdout",
     "output_type": "stream",
     "text": [
      "Requirement already satisfied: tabulate in c:\\users\\user\\anaconda3\\lib\\site-packages (0.8.10)\n"
     ]
    }
   ],
   "source": [
    "!pip install tabulate"
   ]
  },
  {
   "cell_type": "code",
   "execution_count": 2,
   "id": "896b115b",
   "metadata": {},
   "outputs": [
    {
     "name": "stdout",
     "output_type": "stream",
     "text": [
      "YF.download() has changed argument auto_adjust default to True\n"
     ]
    },
    {
     "name": "stderr",
     "output_type": "stream",
     "text": [
      "[*********************100%***********************]  1 of 1 completed\n"
     ]
    }
   ],
   "source": [
    "# Required imports\n",
    "%matplotlib inline\n",
    "import numpy as np\n",
    "import pandas as pd\n",
    "import matplotlib.pyplot as plt\n",
    "import warnings\n",
    "warnings.filterwarnings('ignore')\n",
    "\n",
    "import yfinance as yf\n",
    "\n",
    "# Set ticker and date range\n",
    "ticker = 'TSLA'\n",
    "start_date = '2014-01-01'\n",
    "end_date = '2024-12-31'\n",
    "\n",
    "# Download data directly using yfinance\n",
    "df = yf.download(ticker, start=start_date, end=end_date)\n",
    "\n",
    "# Extract only 'Close' column\n",
    "tsla_close = df['Close'].copy()\n",
    "\n",
    "# Display sample data\n",
    "#print(tsla_close.head())\n",
    "\n"
   ]
  },
  {
   "cell_type": "code",
   "execution_count": 9,
   "id": "fe60a361",
   "metadata": {},
   "outputs": [
    {
     "data": {
      "text/html": [
       "<div>\n",
       "<style scoped>\n",
       "    .dataframe tbody tr th:only-of-type {\n",
       "        vertical-align: middle;\n",
       "    }\n",
       "\n",
       "    .dataframe tbody tr th {\n",
       "        vertical-align: top;\n",
       "    }\n",
       "\n",
       "    .dataframe thead th {\n",
       "        text-align: right;\n",
       "    }\n",
       "</style>\n",
       "<table border=\"1\" class=\"dataframe\">\n",
       "  <thead>\n",
       "    <tr style=\"text-align: right;\">\n",
       "      <th>Ticker</th>\n",
       "      <th>TSLA</th>\n",
       "    </tr>\n",
       "    <tr>\n",
       "      <th>Date</th>\n",
       "      <th></th>\n",
       "    </tr>\n",
       "  </thead>\n",
       "  <tbody>\n",
       "    <tr>\n",
       "      <th>2014-01-02</th>\n",
       "      <td>10.006667</td>\n",
       "    </tr>\n",
       "    <tr>\n",
       "      <th>2014-01-03</th>\n",
       "      <td>9.970667</td>\n",
       "    </tr>\n",
       "    <tr>\n",
       "      <th>2014-01-06</th>\n",
       "      <td>9.800000</td>\n",
       "    </tr>\n",
       "  </tbody>\n",
       "</table>\n",
       "</div>"
      ],
      "text/plain": [
       "Ticker           TSLA\n",
       "Date                 \n",
       "2014-01-02  10.006667\n",
       "2014-01-03   9.970667\n",
       "2014-01-06   9.800000"
      ]
     },
     "execution_count": 9,
     "metadata": {},
     "output_type": "execute_result"
    }
   ],
   "source": [
    "tsla_close.head(3)"
   ]
  },
  {
   "cell_type": "code",
   "execution_count": null,
   "id": "9a28b706",
   "metadata": {},
   "outputs": [],
   "source": [
    "# Save to CSV\n",
    "#tsla_close.to_csv('tesla_close_2014_2024.csv')\n",
    "\n",
    "#print(\"✅ Tesla Close price data (2014–2024) saved as 'tesla_close_2014_2024.csv'\")\n"
   ]
  },
  {
   "cell_type": "code",
   "execution_count": 13,
   "id": "db8ebb19",
   "metadata": {},
   "outputs": [],
   "source": [
    "import yfinance as yf\n",
    "\n",
    "# Load Tesla ticker\n",
    "tsla = yf.Ticker(\"TSLA\")\n",
    "\n",
    "# Get financial statements\n",
    "income_stmt = tsla.financials\n",
    "balance_sheet = tsla.balance_sheet\n",
    "cashflow_stmt = tsla.cashflow\n",
    "\n",
    "# Transpose for year-wise view\n",
    "income_stmt = income_stmt.T\n",
    "balance_sheet = balance_sheet.T\n",
    "cashflow_stmt = cashflow_stmt.T\n",
    "\n",
    "# Filter 2022 to 2024\n",
    "years = ['2022-12-31', '2023-12-31', '2024-12-31']\n",
    "income_stmt_filtered = income_stmt.loc[income_stmt.index.astype(str).isin(years)]\n",
    "balance_sheet_filtered = balance_sheet.loc[balance_sheet.index.astype(str).isin(years)]\n",
    "cashflow_stmt_filtered = cashflow_stmt.loc[cashflow_stmt.index.astype(str).isin(years)]\n",
    "\n",
    "# Display samples\n",
    "# print(\"Income Statement (2022–2024):\\n\", income_stmt_filtered)\n",
    "# print(\"\\nBalance Sheet (2022–2024):\\n\", balance_sheet_filtered)\n",
    "# print(\"\\nCash Flow Statement (2022–2024):\\n\", cashflow_stmt_filtered)\n",
    "\n"
   ]
  },
  {
   "cell_type": "code",
   "execution_count": null,
   "id": "da79bd4f",
   "metadata": {},
   "outputs": [],
   "source": [
    "# # Save to CSV files\n",
    "# income_stmt_filtered.to_csv(\"tesla_income_statement_2022_2024.csv\")\n",
    "# balance_sheet_filtered.to_csv(\"tesla_balance_sheet_2022_2024.csv\")\n",
    "# cashflow_stmt_filtered.to_csv(\"tesla_cashflow_statement_2022_2024.csv\")\n"
   ]
  },
  {
   "cell_type": "code",
   "execution_count": null,
   "id": "9bc1a3e4",
   "metadata": {},
   "outputs": [],
   "source": []
  },
  {
   "cell_type": "markdown",
   "id": "e3e23074",
   "metadata": {},
   "source": [
    "S&P 500 index (^GSPC) historical “Close” prices from 2014 to 2024"
   ]
  },
  {
   "cell_type": "code",
   "execution_count": 10,
   "id": "cb4a3956",
   "metadata": {},
   "outputs": [
    {
     "name": "stderr",
     "output_type": "stream",
     "text": [
      "[*********************100%***********************]  1 of 1 completed\n"
     ]
    }
   ],
   "source": [
    "import yfinance as yf\n",
    "import pandas as pd\n",
    "\n",
    "# Define ticker and date range\n",
    "ticker = '^GSPC'  # S&P 500 index\n",
    "start_date = '2014-01-01'\n",
    "end_date = '2024-12-31'\n",
    "\n",
    "# Download the data\n",
    "sp500_data = yf.download(ticker, start=start_date, end=end_date)\n",
    "\n",
    "# Extract only the 'Close' column\n",
    "sp500_close = sp500_data[['Close']].copy()\n",
    "\n",
    "\n"
   ]
  },
  {
   "cell_type": "code",
   "execution_count": 11,
   "id": "dcb8efdc",
   "metadata": {},
   "outputs": [
    {
     "name": "stdout",
     "output_type": "stream",
     "text": [
      "✅ S&P 500 Close price data (2014–2024) saved as 'sp500_close_2014_2024.csv'\n"
     ]
    }
   ],
   "source": [
    "# # Save to CSV\n",
    "# sp500_close.to_csv('sp500_close_2014_2024.csv')\n",
    "\n",
    "# print(\"✅ S&P 500 Close price data (2014–2024) saved as 'sp500_close_2014_2024.csv'\")"
   ]
  },
  {
   "cell_type": "code",
   "execution_count": null,
   "id": "85835bd3",
   "metadata": {},
   "outputs": [],
   "source": []
  },
  {
   "cell_type": "code",
   "execution_count": null,
   "id": "938d94a3",
   "metadata": {},
   "outputs": [],
   "source": []
  },
  {
   "cell_type": "markdown",
   "id": "d4c1576f",
   "metadata": {},
   "source": [
    "#### Liquidity Ratios"
   ]
  },
  {
   "cell_type": "code",
   "execution_count": null,
   "id": "458f27c5",
   "metadata": {},
   "outputs": [],
   "source": []
  },
  {
   "cell_type": "code",
   "execution_count": null,
   "id": "4f0e89a0",
   "metadata": {},
   "outputs": [],
   "source": [
    "current ratio"
   ]
  },
  {
   "cell_type": "code",
   "execution_count": 16,
   "id": "4a6a8dcd",
   "metadata": {},
   "outputs": [
    {
     "data": {
      "text/plain": [
       "2024-12-31    2.024912\n",
       "2023-12-31    1.725894\n",
       "2022-12-31    1.531956\n",
       "Name: Current Ratio, dtype: object"
      ]
     },
     "execution_count": 16,
     "metadata": {},
     "output_type": "execute_result"
    }
   ],
   "source": [
    "# Transpose so that line items are rows and dates are columns\n",
    "balance_sheet_filtered_T = balance_sheet_filtered.T\n",
    "\n",
    "# Extract current assets and liabilities\n",
    "current_assets = balance_sheet_filtered_T.loc['Current Assets']\n",
    "current_liabilities = balance_sheet_filtered_T.loc['Current Liabilities']\n",
    "\n",
    "# Calculate the current ratio\n",
    "current_ratio = current_assets / current_liabilities\n",
    "current_ratio.name = \"Current Ratio\"\n",
    "\n",
    "# Display the result\n",
    "current_ratio\n"
   ]
  },
  {
   "cell_type": "markdown",
   "id": "648be6d1",
   "metadata": {},
   "source": [
    "A current ratio of 2.02 on 2024-12-31 means:\n",
    "\n",
    "For every $1 of short-term liabilities due within a year, Tesla had $2.02 in short-term assets on hand.\n",
    "Financially healthy: A ratio above 1 indicates Tesla can cover its short-term obligations without stress.\n",
    "\n",
    "It suggests Tesla has twice as many current assets as current liabilities—a solid liquidity cushion."
   ]
  },
  {
   "cell_type": "code",
   "execution_count": null,
   "id": "bafdc3f3",
   "metadata": {},
   "outputs": [],
   "source": []
  },
  {
   "cell_type": "code",
   "execution_count": null,
   "id": "f2a7d816",
   "metadata": {},
   "outputs": [],
   "source": [
    "Quick Ratio"
   ]
  },
  {
   "cell_type": "code",
   "execution_count": 18,
   "id": "4ec48074",
   "metadata": {},
   "outputs": [
    {
     "data": {
      "text/plain": [
       "2024-12-31    1.607959\n",
       "2023-12-31    1.251913\n",
       "2022-12-31    1.051256\n",
       "Name: Quick Ratio, dtype: object"
      ]
     },
     "execution_count": 18,
     "metadata": {},
     "output_type": "execute_result"
    }
   ],
   "source": [
    "# Extract required values\n",
    "current_assets = balance_sheet_filtered_T.loc['Current Assets']\n",
    "inventory = balance_sheet_filtered_T.loc['Inventory']\n",
    "current_liabilities = balance_sheet_filtered_T.loc['Current Liabilities']\n",
    "\n",
    "# Calculate Quick Ratio\n",
    "quick_ratio = (current_assets - inventory) / current_liabilities\n",
    "quick_ratio.name = \"Quick Ratio\"\n",
    "\n",
    "# Display result\n",
    "quick_ratio\n"
   ]
  },
  {
   "cell_type": "markdown",
   "id": "9ffd95b5",
   "metadata": {},
   "source": [
    "For every $1 of Tesla’s short-term liabilities in 2024, it had $1.61 in liquid assets—excluding inventory—to cover them immediately."
   ]
  },
  {
   "cell_type": "code",
   "execution_count": null,
   "id": "5312d19b",
   "metadata": {},
   "outputs": [],
   "source": []
  },
  {
   "cell_type": "code",
   "execution_count": null,
   "id": "219e29d8",
   "metadata": {},
   "outputs": [],
   "source": [
    "Cash Ratio"
   ]
  },
  {
   "cell_type": "code",
   "execution_count": 19,
   "id": "a4285b86",
   "metadata": {},
   "outputs": [
    {
     "data": {
      "text/plain": [
       "2024-12-31    0.559974\n",
       "2023-12-31    0.570405\n",
       "2022-12-31    0.608521\n",
       "Name: Cash Ratio, dtype: object"
      ]
     },
     "execution_count": 19,
     "metadata": {},
     "output_type": "execute_result"
    }
   ],
   "source": [
    "# For Cash Ratio: (Cash + Cash Equivalents) / Current Liabilities\n",
    "\n",
    "# Extract required components\n",
    "cash = balance_sheet_filtered_T.loc['Cash And Cash Equivalents']\n",
    "current_liabilities = balance_sheet_filtered_T.loc['Current Liabilities']\n",
    "\n",
    "# Calculate Cash Ratio\n",
    "cash_ratio = cash / current_liabilities\n",
    "cash_ratio.name = \"Cash Ratio\"\n",
    "\n",
    "# Display result\n",
    "cash_ratio\n"
   ]
  },
  {
   "cell_type": "markdown",
   "id": "8456dd28",
   "metadata": {},
   "source": [
    "A ratio around 0.5–0.6  indicates a strong liquidity position\n",
    "On 2024-12-31, Tesla had $0.56 in pure cash and cash equivalents for every $1 of short-term liabilities."
   ]
  },
  {
   "cell_type": "code",
   "execution_count": null,
   "id": "166b4fe9",
   "metadata": {},
   "outputs": [],
   "source": []
  },
  {
   "cell_type": "markdown",
   "id": "9f9999b4",
   "metadata": {},
   "source": [
    "#### Profitability Ratios"
   ]
  },
  {
   "cell_type": "markdown",
   "id": "f0cc8117",
   "metadata": {},
   "source": [
    "Gross Profit Margin(from income sheet)"
   ]
  },
  {
   "cell_type": "code",
   "execution_count": 22,
   "id": "256bef4b",
   "metadata": {},
   "outputs": [
    {
     "data": {
      "text/plain": [
       "2024-12-31    0.178626\n",
       "2023-12-31    0.182489\n",
       "2022-12-31    0.255984\n",
       "2021-12-31    0.252792\n",
       "2020-12-31         NaN\n",
       "Name: Gross Profit Margin, dtype: object"
      ]
     },
     "execution_count": 22,
     "metadata": {},
     "output_type": "execute_result"
    }
   ],
   "source": [
    "# Transpose to make line items rows and dates columns\n",
    "income_stmt_T = income_stmt.T\n",
    "\n",
    "# Extract required components\n",
    "revenue = income_stmt_T.loc['Total Revenue']\n",
    "gross_profit = income_stmt_T.loc['Gross Profit']\n",
    "\n",
    "# Gross Profit Margin = Gross Profit/Net Sales * 100\n",
    "\n",
    "# Calculate Gross Profit Margin = Gross Profit / Revenue\n",
    "gross_profit_margin = gross_profit / revenue\n",
    "gross_profit_margin.name = \"Gross Profit Margin\"\n",
    "\n",
    "# Display result\n",
    "gross_profit_margin\n"
   ]
  },
  {
   "cell_type": "markdown",
   "id": "5c1818f5",
   "metadata": {},
   "source": [
    "Gross Profit Margin in year 2024 is 17.8%\n",
    "\n",
    "A clear decline in gross margin from 2022 to 2024.\n",
    "\n",
    "In 2022, Tesla kept 26 cents of every $1 in revenue after covering cost of goods.\n",
    "\n",
    "By 2024, that dropped to 18 cents—suggesting:\n",
    "\n",
    "Rising production costs (e.g., batteries, logistics)\n",
    "\n",
    "Price cuts or competitive pressure\n",
    "\n"
   ]
  },
  {
   "cell_type": "code",
   "execution_count": null,
   "id": "0d403628",
   "metadata": {},
   "outputs": [],
   "source": []
  },
  {
   "cell_type": "markdown",
   "id": "a22bef18",
   "metadata": {},
   "source": [
    "Operating Profit Margin"
   ]
  },
  {
   "cell_type": "code",
   "execution_count": 23,
   "id": "3b4c94f9",
   "metadata": {},
   "outputs": [
    {
     "data": {
      "text/plain": [
       "2024-12-31    0.079435\n",
       "2023-12-31    0.091875\n",
       "2022-12-31    0.169797\n",
       "2021-12-31    0.120692\n",
       "2020-12-31         NaN\n",
       "Name: Operating Profit Margin, dtype: object"
      ]
     },
     "execution_count": 23,
     "metadata": {},
     "output_type": "execute_result"
    }
   ],
   "source": [
    "# Extract required components from income statement\n",
    "operating_income = income_stmt_T.loc['Operating Income']\n",
    "total_revenue = income_stmt_T.loc['Total Revenue']\n",
    "\n",
    "# Calculate Operating Profit Margin = Operating Income / Total Revenue\n",
    "operating_profit_margin = operating_income / total_revenue\n",
    "operating_profit_margin.name = \"Operating Profit Margin\"\n",
    "\n",
    "# Display result\n",
    "operating_profit_margin\n"
   ]
  },
  {
   "cell_type": "markdown",
   "id": "b4d59d6e",
   "metadata": {},
   "source": [
    "Here is Tesla’s Operating Profit Margin for each year:\n",
    "\n",
    "2022-12-31 → 16.98%\n",
    "\n",
    "2023-12-31 → 9.19%\n",
    "\n",
    "2024-12-31 → 7.94%\n",
    "\n",
    "This margin drop aligns with the earlier gross margin decline, suggesting Tesla faced cost pressures not offset by revenue growth or cost controls."
   ]
  },
  {
   "cell_type": "code",
   "execution_count": null,
   "id": "95787e3a",
   "metadata": {},
   "outputs": [],
   "source": []
  },
  {
   "cell_type": "markdown",
   "id": "6f06c4a9",
   "metadata": {},
   "source": [
    "Return on Assets (ROA)"
   ]
  },
  {
   "cell_type": "code",
   "execution_count": 24,
   "id": "ce163ee7",
   "metadata": {},
   "outputs": [
    {
     "data": {
      "text/plain": [
       "2020-12-31         NaN\n",
       "2021-12-31         NaN\n",
       "2022-12-31    0.152821\n",
       "2023-12-31     0.14068\n",
       "2024-12-31    0.058409\n",
       "Freq: A-DEC, Name: Return on Assets (ROA), dtype: object"
      ]
     },
     "execution_count": 24,
     "metadata": {},
     "output_type": "execute_result"
    }
   ],
   "source": [
    "# Load total assets from the balance sheet\n",
    "total_assets = balance_sheet_filtered_T.loc['Total Assets']\n",
    "\n",
    "# Load net income from the income statement\n",
    "net_income = income_stmt_T.loc['Net Income']\n",
    "\n",
    "# Calculate Return on Assets (ROA) = Net Income / Total Assets\n",
    "roa = net_income / total_assets\n",
    "roa.name = \"Return on Assets (ROA)\"\n",
    "\n",
    "# Display result\n",
    "roa\n"
   ]
  },
  {
   "cell_type": "markdown",
   "id": "7093134b",
   "metadata": {},
   "source": [
    "Here is Tesla’s Return on Assets (ROA) for each year:\n",
    "\n",
    "2022-12-31 → 15.28%\n",
    "\n",
    "2023-12-31 → 14.07%\n",
    "\n",
    "2024-12-31 → 5.84%"
   ]
  },
  {
   "cell_type": "code",
   "execution_count": null,
   "id": "9e1c7985",
   "metadata": {},
   "outputs": [],
   "source": []
  },
  {
   "cell_type": "markdown",
   "id": "d3c1d313",
   "metadata": {},
   "source": [
    "Return on Equity (ROE)"
   ]
  },
  {
   "cell_type": "code",
   "execution_count": 25,
   "id": "c47fa71c",
   "metadata": {},
   "outputs": [
    {
     "data": {
      "text/plain": [
       "2020-12-31         NaN\n",
       "2021-12-31         NaN\n",
       "2022-12-31    0.274151\n",
       "2023-12-31      0.2358\n",
       "2024-12-31     0.09677\n",
       "Freq: A-DEC, Name: Return on Equity (ROE), dtype: object"
      ]
     },
     "execution_count": 25,
     "metadata": {},
     "output_type": "execute_result"
    }
   ],
   "source": [
    "# Load shareholders' equity from the balance sheet\n",
    "shareholders_equity = balance_sheet_filtered_T.loc['Total Equity Gross Minority Interest']\n",
    "\n",
    "# Use previously loaded net income\n",
    "# Calculate Return on Equity (ROE) = Net Income / Shareholders' Equity\n",
    "roe = net_income / shareholders_equity\n",
    "roe.name = \"Return on Equity (ROE)\"\n",
    "\n",
    "# Display result\n",
    "roe\n"
   ]
  },
  {
   "cell_type": "markdown",
   "id": "66516b44",
   "metadata": {},
   "source": [
    "2022-12-31 → 27.42%\n",
    "\n",
    "2023-12-31 → 23.58%\n",
    "\n",
    "2024-12-31 → 9.68%\n",
    "\n",
    "ROE shows how much profit Tesla generated for each dollar of shareholder equity\n",
    "By 2024, ROE dropped sharply, mirroring the decline in ROA"
   ]
  },
  {
   "cell_type": "code",
   "execution_count": null,
   "id": "91d7e0cb",
   "metadata": {},
   "outputs": [],
   "source": []
  },
  {
   "cell_type": "markdown",
   "id": "d6cd8744",
   "metadata": {},
   "source": [
    "Return on sales (ROS)"
   ]
  },
  {
   "cell_type": "code",
   "execution_count": 28,
   "id": "1efd7be2",
   "metadata": {},
   "outputs": [
    {
     "data": {
      "text/plain": [
       "2024-12-31    0.079435\n",
       "2023-12-31    0.091875\n",
       "2022-12-31    0.169797\n",
       "2021-12-31    0.120692\n",
       "2020-12-31         NaN\n",
       "Name: Return on Sales , dtype: object"
      ]
     },
     "execution_count": 28,
     "metadata": {},
     "output_type": "execute_result"
    }
   ],
   "source": [
    "##froom income statement\n",
    "# ROS = Operating Income / Total Revenue\n",
    "ros = operating_income / total_revenue\n",
    "ros.name = \"Return on Sales \"\n",
    "\n",
    "# Display the correct ROS\n",
    "ros\n"
   ]
  },
  {
   "cell_type": "markdown",
   "id": "83393a64",
   "metadata": {},
   "source": [
    "2022-12-31 → 16.98%\n",
    "\n",
    "2023-12-31 → 9.19%\n",
    "\n",
    "2024-12-31 → 7.94%\n",
    "\n",
    "A Return on Sales (ROS) of 7.94% on 2024-12-31 means:\n",
    "\n",
    "For every $1 of revenue Tesla generated in 2024, it earned 7.94 cents in operating profit after covering all operating costs—but before interest and taxes"
   ]
  },
  {
   "cell_type": "code",
   "execution_count": null,
   "id": "3e83b0f2",
   "metadata": {},
   "outputs": [],
   "source": []
  },
  {
   "cell_type": "markdown",
   "id": "7cfff8e1",
   "metadata": {},
   "source": [
    "Return on Investment (ROI)"
   ]
  },
  {
   "cell_type": "code",
   "execution_count": 29,
   "id": "6f70d56d",
   "metadata": {},
   "outputs": [
    {
     "data": {
      "text/plain": [
       "2020-12-31         NaN\n",
       "2021-12-31         NaN\n",
       "2022-12-31    0.243639\n",
       "2023-12-31    0.204955\n",
       "2024-12-31     0.08167\n",
       "Freq: A-DEC, Name: Return on Investment (ROI), dtype: object"
      ]
     },
     "execution_count": 29,
     "metadata": {},
     "output_type": "execute_result"
    }
   ],
   "source": [
    "# Load total debt and shareholders' equity from balance sheet\n",
    "total_debt = balance_sheet_filtered_T.loc['Total Debt']\n",
    "shareholders_equity = balance_sheet_filtered_T.loc['Total Equity Gross Minority Interest']\n",
    "\n",
    "# Compute invested capital\n",
    "invested_capital = total_debt + shareholders_equity\n",
    "\n",
    "#ROI = Investment Gain / Investment Base\n",
    "# Compute ROI = Net Income / Invested Capital\n",
    "roi = net_income / invested_capital\n",
    "roi.name = \"Return on Investment (ROI)\"\n",
    "\n",
    "# Display result\n",
    "roi\n"
   ]
  },
  {
   "cell_type": "markdown",
   "id": "8c1868f8",
   "metadata": {},
   "source": [
    "Here is Tesla’s Return on Investment (ROI) using the formula Net Income / (Total Debt + Shareholders' Equity):\n",
    "\n",
    "2022-12-31 → 24.36%\n",
    "\n",
    "2023-12-31 → 20.50%\n",
    "\n",
    "2024-12-31 → 8.17%\n",
    "\n",
    "A steep drop in 2024 suggests:\n",
    "\n",
    "Lower net income\n",
    "\n",
    "Possibly rising invested capital (new facilities, tech investment)"
   ]
  },
  {
   "cell_type": "code",
   "execution_count": null,
   "id": "abe52c95",
   "metadata": {},
   "outputs": [],
   "source": []
  },
  {
   "cell_type": "markdown",
   "id": "4786d359",
   "metadata": {},
   "source": [
    "#### Earning Ratio"
   ]
  },
  {
   "cell_type": "code",
   "execution_count": 35,
   "id": "0eac5a0e",
   "metadata": {},
   "outputs": [
    {
     "name": "stdout",
     "output_type": "stream",
     "text": [
      "Ticker            TSLA\n",
      "Date                  \n",
      "2024-12-30  417.410004\n"
     ]
    }
   ],
   "source": [
    "tsla_close_before = tsla_close[:'2024-12-30'].tail(1)\n",
    "print(tsla_close_before)\n"
   ]
  },
  {
   "cell_type": "code",
   "execution_count": 37,
   "id": "1d3d0ad9",
   "metadata": {},
   "outputs": [
    {
     "name": "stdout",
     "output_type": "stream",
     "text": [
      "2024-12-31    188.273572\n",
      "2023-12-31     88.635967\n",
      "2022-12-31      104.9579\n",
      "2021-12-31    234.169732\n",
      "2020-12-31           NaN\n",
      "Name: Price-to-Earnings (P/E) Ratio, dtype: object\n"
     ]
    }
   ],
   "source": [
    "# EPS calculation\n",
    "income_stmt_T = income_stmt.T\n",
    "balance_sheet_T = balance_sheet.T\n",
    "\n",
    "net_income = income_stmt_T.loc['Net Income']\n",
    "shares_outstanding = balance_sheet_T.loc['Ordinary Shares Number']\n",
    "eps = net_income / shares_outstanding\n",
    "eps.name = \"Earnings Per Share\"\n",
    "\n",
    "# Get closing price on or before 2024-12-30 as scalar\n",
    "tsla_price = tsla_close[:'2024-12-30'].tail(1).values[0]\n",
    "\n",
    "# Compute P/E ratio: scalar divided by Series\n",
    "pe_ratio = tsla_price / eps\n",
    "pe_ratio.name = \"Price-to-Earnings (P/E) Ratio\"\n",
    "\n",
    "# Display result\n",
    "print(pe_ratio)\n"
   ]
  },
  {
   "cell_type": "markdown",
   "id": "2249df48",
   "metadata": {},
   "source": [
    "Investors were paying $188.27 for every $1 of Tesla’s earnings in 2024. "
   ]
  },
  {
   "cell_type": "code",
   "execution_count": null,
   "id": "3a12faab",
   "metadata": {},
   "outputs": [],
   "source": []
  },
  {
   "cell_type": "markdown",
   "id": "2013eeb9",
   "metadata": {},
   "source": [
    "Debt-to-Equity Ratio"
   ]
  },
  {
   "cell_type": "code",
   "execution_count": 39,
   "id": "79d13be3",
   "metadata": {},
   "outputs": [
    {
     "data": {
      "text/plain": [
       "2024-12-31    0.184894\n",
       "2023-12-31    0.150498\n",
       "2022-12-31    0.125234\n",
       "2021-12-31    0.280942\n",
       "2020-12-31         NaN\n",
       "Name: Debt-to-Equity Ratio, dtype: object"
      ]
     },
     "execution_count": 39,
     "metadata": {},
     "output_type": "execute_result"
    }
   ],
   "source": [
    "# Extract Total Debt and Total Equity from the balance sheet\n",
    "total_debt = balance_sheet_T.loc['Total Debt']\n",
    "total_equity = balance_sheet_T.loc['Total Equity Gross Minority Interest']\n",
    "\n",
    "# Calculate Debt-to-Equity Ratio = Total Debt / Total Equity\n",
    "debt_to_equity_ratio = total_debt / total_equity\n",
    "debt_to_equity_ratio.name = \"Debt-to-Equity Ratio\"\n",
    "\n",
    "# Display result\n",
    "debt_to_equity_ratio\n"
   ]
  },
  {
   "cell_type": "markdown",
   "id": "033a9542",
   "metadata": {},
   "source": [
    "This ratio indicates how much debt Tesla is using to finance its assets relative to equity.\n",
    "\n",
    "In 2024, Tesla had $0.18 of debt for every $1 of equity."
   ]
  },
  {
   "cell_type": "code",
   "execution_count": null,
   "id": "045a15ff",
   "metadata": {},
   "outputs": [],
   "source": []
  },
  {
   "cell_type": "markdown",
   "id": "28fb2f74",
   "metadata": {},
   "source": [
    "#### Sustainable Growth Rate"
   ]
  },
  {
   "cell_type": "code",
   "execution_count": null,
   "id": "45009b23",
   "metadata": {},
   "outputs": [],
   "source": [
    "Sustainable Growth Rate Formula:\n",
    "SGR=ROE×(1−Dividend Payout Ratio)\n",
    "Where:\n",
    "\n",
    "ROE = Return on Equity\n",
    "\n",
    "Dividend Payout Ratio = Dividends / Net Income\n",
    "\n"
   ]
  },
  {
   "cell_type": "markdown",
   "id": "7fbbe40d",
   "metadata": {},
   "source": [
    "according to Yahoo Finance, Tesla does not pay dividends. The \"Key Statistics\" page for Tesla (TSLA) indicates:​\n",
    "Yahoo Finance\n",
    "\n",
    "Trailing Annual Dividend Rate: 0.00​\n",
    "\n",
    "Trailing Annual Dividend Yield: 0.00%​\n",
    "\n",
    "5 Year Average Dividend Yield: --​\n",
    "\n",
    "These figures confirm that Tesla has not issued dividends to its shareholders"
   ]
  },
  {
   "cell_type": "code",
   "execution_count": 40,
   "id": "9e854722",
   "metadata": {},
   "outputs": [
    {
     "data": {
      "text/plain": [
       "2024-12-31     0.09677\n",
       "2023-12-31      0.2358\n",
       "2022-12-31    0.274151\n",
       "2021-12-31    0.174904\n",
       "2020-12-31         NaN\n",
       "Name: Sustainable Growth Rate (SGR), dtype: object"
      ]
     },
     "execution_count": 40,
     "metadata": {},
     "output_type": "execute_result"
    }
   ],
   "source": [
    "# Since Tesla pays no dividends, the retention ratio = 1\n",
    "# Thus, Sustainable Growth Rate = ROE\n",
    "\n",
    "# Load previously computed ROE\n",
    "roe = net_income / total_equity\n",
    "roe.name = \"Sustainable Growth Rate (SGR)\"\n",
    "\n",
    "# Display the result\n",
    "roe\n"
   ]
  },
  {
   "cell_type": "markdown",
   "id": "55bdfdf9",
   "metadata": {},
   "source": [
    "2024-12-31 → 9.68%"
   ]
  }
 ],
 "metadata": {
  "kernelspec": {
   "display_name": "Python 3 (ipykernel)",
   "language": "python",
   "name": "python3"
  },
  "language_info": {
   "codemirror_mode": {
    "name": "ipython",
    "version": 3
   },
   "file_extension": ".py",
   "mimetype": "text/x-python",
   "name": "python",
   "nbconvert_exporter": "python",
   "pygments_lexer": "ipython3",
   "version": "3.11.4"
  }
 },
 "nbformat": 4,
 "nbformat_minor": 5
}
