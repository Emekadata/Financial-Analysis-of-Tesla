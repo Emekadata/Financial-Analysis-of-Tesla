{
 "cells": [
  {
   "cell_type": "code",
   "execution_count": 3,
   "id": "ae9e0c2f",
   "metadata": {},
   "outputs": [],
   "source": [
    "import pandas as pd\n",
    "import statsmodels.api as sm\n",
    "\n",
    "# Load the uploaded datasets\n",
    "tesla_close = pd.read_csv(\"tesla_close_2014_2024.csv\")\n",
    "sp500_close = pd.read_csv(\"sp500_close_2014_2024.csv\")\n",
    "income_statement = pd.read_csv(\"tesla_income_statement_2022_2024.csv\")\n",
    "balance_sheet = pd.read_csv(\"tesla_balance_sheet_2022_2024.csv\")\n",
    "cashflow_statement = pd.read_csv(\"tesla_cashflow_statement_2022_2024.csv\")\n",
    "\n",
    "# Display first few rows of each to understand structure\n",
    "# tesla_close.head(), sp500_close.head(), income_statement.head(), balance_sheet.head(), cashflow_statement.head()\n"
   ]
  },
  {
   "cell_type": "code",
   "execution_count": 5,
   "id": "edf31c2a",
   "metadata": {},
   "outputs": [
    {
     "data": {
      "text/plain": [
       "(0.6377966635219516, 0.01506643524553374, 0.0017697335038198148)"
      ]
     },
     "execution_count": 5,
     "metadata": {},
     "output_type": "execute_result"
    }
   ],
   "source": [
    "# Clean and align the Tesla and S&P 500 datasets by date for Beta calculation\n",
    "\n",
    "# Step 1: Clean column names and parse dates\n",
    "tesla_close.columns = [\"Date\", \"TSLA\"]\n",
    "sp500_close = sp500_close.iloc[2:]  # Skip metadata rows\n",
    "sp500_close.columns = [\"Date\", \"SP500\"]\n",
    "sp500_close[\"Date\"] = pd.to_datetime(sp500_close[\"Date\"])\n",
    "tesla_close[\"Date\"] = pd.to_datetime(tesla_close[\"Date\"])\n",
    "\n",
    "# Step 2: Merge the two datasets on date\n",
    "merged = pd.merge(tesla_close, sp500_close, on=\"Date\", how=\"inner\")\n",
    "merged = merged.sort_values(\"Date\")\n",
    "\n",
    "# Fix data type issues by ensuring TSLA and SP500 columns are numeric\n",
    "merged[\"TSLA\"] = pd.to_numeric(merged[\"TSLA\"], errors=\"coerce\")\n",
    "merged[\"SP500\"] = pd.to_numeric(merged[\"SP500\"], errors=\"coerce\")\n",
    "\n",
    "# Drop rows with NaN values due to coercion or missing data\n",
    "merged = merged.dropna()\n",
    "\n",
    "# Recalculate returns\n",
    "merged[\"TSLA_return\"] = merged[\"TSLA\"].pct_change()\n",
    "merged[\"SP500_return\"] = merged[\"SP500\"].pct_change()\n",
    "merged = merged.dropna()\n",
    "\n",
    "# Regression for Beta\n",
    "X = sm.add_constant(merged[\"SP500_return\"])\n",
    "y = merged[\"TSLA_return\"]\n",
    "model = sm.OLS(y, X).fit()\n",
    "beta_value = model.params[\"SP500_return\"]\n",
    "intercept = model.params[\"const\"]\n",
    "\n",
    "beta_value, intercept, model.rsquared\n",
    "\n"
   ]
  },
  {
   "cell_type": "code",
   "execution_count": 10,
   "id": "4d694945",
   "metadata": {},
   "outputs": [
    {
     "data": {
      "text/plain": [
       "{'Beta': 0.6377966635219516,\n",
       " 'Average Market Return (S&P 500)': 0.12580129798146134,\n",
       " 'CAPM Cost of Equity': 0.0954481882513849}"
      ]
     },
     "execution_count": 10,
     "metadata": {},
     "output_type": "execute_result"
    }
   ],
   "source": [
    "# Average annual market return from S&P\n",
    "merged['Year'] = merged['Date'].dt.year\n",
    "sp500_yearly = merged.groupby('Year').agg(\n",
    "    start_price=('SP500', 'first'),\n",
    "    end_price=('SP500', 'last')\n",
    ")\n",
    "sp500_yearly['annual_return'] = (sp500_yearly['end_price'] - sp500_yearly['start_price']) / sp500_yearly['start_price']\n",
    "average_market_return = sp500_yearly['annual_return'].mean()\n",
    "\n",
    "# CAPM Cost of Equity\n",
    "risk_free_rate = 0.042\n",
    "cost_of_equity = risk_free_rate + beta_value * (average_market_return - risk_free_rate)\n",
    "{\n",
    "    \"Beta\": beta_value,\n",
    "    \"Average Market Return (S&P 500)\": average_market_return,\n",
    "    \"CAPM Cost of Equity\": cost_of_equity\n",
    " }"
   ]
  },
  {
   "cell_type": "code",
   "execution_count": 14,
   "id": "66682bff",
   "metadata": {},
   "outputs": [
    {
     "data": {
      "text/plain": [
       "{'FCF': 3581000000.0,\n",
       " 'WACC': 0.09414618242620042,\n",
       " 'Intrinsic Value per Share': 21.387192484881325,\n",
       " 'R-squared (Beta Fit)': 0.0017697335038198148}"
      ]
     },
     "execution_count": 14,
     "metadata": {},
     "output_type": "execute_result"
    }
   ],
   "source": [
    "# WACC\n",
    "latest_balance = balance_sheet.iloc[0]\n",
    "latest_income = income_statement.iloc[0]\n",
    "latest_cashflow = cashflow_statement.iloc[0]\n",
    "\n",
    "total_debt = latest_balance[\"Total Debt\"]\n",
    "market_price_assumption = 239.43  # current market price\n",
    "equity_market_value = latest_balance[\"Ordinary Shares Number\"] * market_price_assumption\n",
    "debt_market_value = total_debt\n",
    "E = equity_market_value\n",
    "D = debt_market_value\n",
    "V = E + D\n",
    "\n",
    "interest_expense = latest_income[\"Interest Expense Non Operating\"]\n",
    "cost_of_debt = interest_expense / total_debt\n",
    "tax_rate = latest_income[\"Tax Rate For Calcs\"]\n",
    "\n",
    "wacc = (E / V) * cost_of_equity + (D / V) * cost_of_debt * (1 - tax_rate)\n",
    "\n",
    "# Intrinsic Value per Share using Gordon Growth Model\n",
    "fcf = latest_cashflow[\"Free Cash Flow\"]\n",
    "shares_outstanding = latest_balance[\"Ordinary Shares Number\"]\n",
    "g = 0.04  # growth rate\n",
    "\n",
    "value_of_firm = fcf * (1 + g) / (wacc - g)\n",
    "intrinsic_value_per_share = value_of_firm / shares_outstanding\n",
    "\n",
    "# Output results\n",
    "{\n",
    "    \"FCF\": fcf,\n",
    "    \"WACC\": wacc,\n",
    "    \"Intrinsic Value per Share\": intrinsic_value_per_share,\n",
    "    \"R-squared (Beta Fit)\": model.rsquared\n",
    "}"
   ]
  },
  {
   "cell_type": "markdown",
   "id": "9100812e",
   "metadata": {},
   "source": [
    "Market Price : $239.43\n",
    "\n",
    "Intrinsic Value (DCF-derived): $21.39\n",
    "239.43/21.39 =11.193"
   ]
  },
  {
   "cell_type": "markdown",
   "id": "cca9df6c",
   "metadata": {},
   "source": [
    "The market is pricing Tesla at nearly 11x the value of the stock  based on current Free Cash Flow, WACC, and long-term growth assumptions."
   ]
  }
 ],
 "metadata": {
  "kernelspec": {
   "display_name": "Python 3 (ipykernel)",
   "language": "python",
   "name": "python3"
  },
  "language_info": {
   "codemirror_mode": {
    "name": "ipython",
    "version": 3
   },
   "file_extension": ".py",
   "mimetype": "text/x-python",
   "name": "python",
   "nbconvert_exporter": "python",
   "pygments_lexer": "ipython3",
   "version": "3.11.4"
  }
 },
 "nbformat": 4,
 "nbformat_minor": 5
}
